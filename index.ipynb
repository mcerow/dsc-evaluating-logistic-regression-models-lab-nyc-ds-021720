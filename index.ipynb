{
 "cells": [
  {
   "cell_type": "markdown",
   "metadata": {},
   "source": [
    "# Evaluating Logistic Regression Models - Lab\n",
    "\n",
    "## Introduction\n",
    "\n",
    "In regression, you are predicting continous values so it makes sense to discuss error as a distance of how far off our estimates were. When classifying a binary variable, however, a model is either correct or incorrect. As a result, we tend to quantify this in terms of how many false positives versus false negatives we come across. In particular, we examine a few different specific measurements when evaluating the performance of a classification algorithm. In this lab, you'll review precision, recall, accuracy, and F1 score in order to evaluate our logistic regression models.\n",
    "\n",
    "\n",
    "## Objectives \n",
    "\n",
    "In this lab you will: \n",
    "\n",
    "- Implement evaluation metrics from scratch using Python \n",
    "\n",
    "\n",
    "\n",
    "## Terminology review  \n",
    "\n",
    "Let's take a moment and review some classification evaluation metrics:  \n",
    "\n",
    "\n",
    "$$ \\text{Precision} = \\frac{\\text{Number of True Positives}}{\\text{Number of Predicted Positives}} $$    \n",
    "\n",
    "$$ \\text{Recall} = \\frac{\\text{Number of True Positives}}{\\text{Number of Actual Total Positives}} $$  \n",
    "  \n",
    "$$ \\text{Accuracy} = \\frac{\\text{Number of True Positives + True Negatives}}{\\text{Total Observations}} $$\n",
    "\n",
    "$$ \\text{F1 score} = 2 * \\frac{\\text{Precision * Recall}}{\\text{Precision + Recall}} $$\n"
   ]
  },
  {
   "cell_type": "markdown",
   "metadata": {},
   "source": [
    "At times, it may be best to tune a classification algorithm to optimize against precision or recall rather than overall accuracy. For example, imagine the scenario of predicting whether or not a patient is at risk for cancer and should be brought in for additional testing. In cases such as this, we often may want to cast a slightly wider net, and it is preferable to optimize for recall, the number of cancer positive cases, than it is to optimize precision, the percentage of our predicted cancer-risk patients who are indeed positive."
   ]
  },
  {
   "cell_type": "markdown",
   "metadata": {},
   "source": [
    "## Split the data into training and test sets"
   ]
  },
  {
   "cell_type": "code",
   "execution_count": 1,
   "metadata": {},
   "outputs": [
    {
     "data": {
      "text/html": [
       "<div>\n",
       "<style scoped>\n",
       "    .dataframe tbody tr th:only-of-type {\n",
       "        vertical-align: middle;\n",
       "    }\n",
       "\n",
       "    .dataframe tbody tr th {\n",
       "        vertical-align: top;\n",
       "    }\n",
       "\n",
       "    .dataframe thead th {\n",
       "        text-align: right;\n",
       "    }\n",
       "</style>\n",
       "<table border=\"1\" class=\"dataframe\">\n",
       "  <thead>\n",
       "    <tr style=\"text-align: right;\">\n",
       "      <th></th>\n",
       "      <th>age</th>\n",
       "      <th>sex</th>\n",
       "      <th>cp</th>\n",
       "      <th>trestbps</th>\n",
       "      <th>chol</th>\n",
       "      <th>fbs</th>\n",
       "      <th>restecg</th>\n",
       "      <th>thalach</th>\n",
       "      <th>exang</th>\n",
       "      <th>oldpeak</th>\n",
       "      <th>slope</th>\n",
       "      <th>ca</th>\n",
       "      <th>thal</th>\n",
       "      <th>target</th>\n",
       "    </tr>\n",
       "  </thead>\n",
       "  <tbody>\n",
       "    <tr>\n",
       "      <td>0</td>\n",
       "      <td>63</td>\n",
       "      <td>1</td>\n",
       "      <td>3</td>\n",
       "      <td>145</td>\n",
       "      <td>233</td>\n",
       "      <td>1</td>\n",
       "      <td>0</td>\n",
       "      <td>150</td>\n",
       "      <td>0</td>\n",
       "      <td>2.3</td>\n",
       "      <td>0</td>\n",
       "      <td>0</td>\n",
       "      <td>1</td>\n",
       "      <td>1</td>\n",
       "    </tr>\n",
       "    <tr>\n",
       "      <td>1</td>\n",
       "      <td>37</td>\n",
       "      <td>1</td>\n",
       "      <td>2</td>\n",
       "      <td>130</td>\n",
       "      <td>250</td>\n",
       "      <td>0</td>\n",
       "      <td>1</td>\n",
       "      <td>187</td>\n",
       "      <td>0</td>\n",
       "      <td>3.5</td>\n",
       "      <td>0</td>\n",
       "      <td>0</td>\n",
       "      <td>2</td>\n",
       "      <td>1</td>\n",
       "    </tr>\n",
       "    <tr>\n",
       "      <td>2</td>\n",
       "      <td>41</td>\n",
       "      <td>0</td>\n",
       "      <td>1</td>\n",
       "      <td>130</td>\n",
       "      <td>204</td>\n",
       "      <td>0</td>\n",
       "      <td>0</td>\n",
       "      <td>172</td>\n",
       "      <td>0</td>\n",
       "      <td>1.4</td>\n",
       "      <td>2</td>\n",
       "      <td>0</td>\n",
       "      <td>2</td>\n",
       "      <td>1</td>\n",
       "    </tr>\n",
       "    <tr>\n",
       "      <td>3</td>\n",
       "      <td>56</td>\n",
       "      <td>1</td>\n",
       "      <td>1</td>\n",
       "      <td>120</td>\n",
       "      <td>236</td>\n",
       "      <td>0</td>\n",
       "      <td>1</td>\n",
       "      <td>178</td>\n",
       "      <td>0</td>\n",
       "      <td>0.8</td>\n",
       "      <td>2</td>\n",
       "      <td>0</td>\n",
       "      <td>2</td>\n",
       "      <td>1</td>\n",
       "    </tr>\n",
       "    <tr>\n",
       "      <td>4</td>\n",
       "      <td>57</td>\n",
       "      <td>0</td>\n",
       "      <td>0</td>\n",
       "      <td>120</td>\n",
       "      <td>354</td>\n",
       "      <td>0</td>\n",
       "      <td>1</td>\n",
       "      <td>163</td>\n",
       "      <td>1</td>\n",
       "      <td>0.6</td>\n",
       "      <td>2</td>\n",
       "      <td>0</td>\n",
       "      <td>2</td>\n",
       "      <td>1</td>\n",
       "    </tr>\n",
       "  </tbody>\n",
       "</table>\n",
       "</div>"
      ],
      "text/plain": [
       "   age  sex  cp  trestbps  chol  fbs  restecg  thalach  exang  oldpeak  slope  \\\n",
       "0   63    1   3       145   233    1        0      150      0      2.3      0   \n",
       "1   37    1   2       130   250    0        1      187      0      3.5      0   \n",
       "2   41    0   1       130   204    0        0      172      0      1.4      2   \n",
       "3   56    1   1       120   236    0        1      178      0      0.8      2   \n",
       "4   57    0   0       120   354    0        1      163      1      0.6      2   \n",
       "\n",
       "   ca  thal  target  \n",
       "0   0     1       1  \n",
       "1   0     2       1  \n",
       "2   0     2       1  \n",
       "3   0     2       1  \n",
       "4   0     2       1  "
      ]
     },
     "execution_count": 1,
     "metadata": {},
     "output_type": "execute_result"
    }
   ],
   "source": [
    "import pandas as pd\n",
    "df = pd.read_csv('heart.csv')\n",
    "df.head()"
   ]
  },
  {
   "cell_type": "markdown",
   "metadata": {},
   "source": [
    "Split the data first into `X` and `y`, and then into training and test sets. Assign 25% to the test set and set the `random_state` to 0. "
   ]
  },
  {
   "cell_type": "code",
   "execution_count": 4,
   "metadata": {},
   "outputs": [],
   "source": [
    "# Import train_test_split\n",
    "from sklearn.model_selection import train_test_split\n",
    "\n",
    "# Split data into X and y\n",
    "y = df['target']\n",
    "X = df.drop(columns=['target'], axis=1)\n",
    "\n",
    "# Split the data into a training and a test set\n",
    "X_train, X_test, y_train, y_test = train_test_split(X, y, random_state=0)"
   ]
  },
  {
   "cell_type": "markdown",
   "metadata": {},
   "source": [
    "## Build a vanilla logistic regression model\n",
    "\n",
    "- Import and instantiate `LogisticRegression` \n",
    "- Make sure you do not use an intercept term and use the `'liblinear'` solver \n",
    "- Fit the model to training data"
   ]
  },
  {
   "cell_type": "code",
   "execution_count": 6,
   "metadata": {},
   "outputs": [
    {
     "data": {
      "text/plain": [
       "LogisticRegression(C=1000000000000.0, class_weight=None, dual=False,\n",
       "                   fit_intercept=False, intercept_scaling=1, l1_ratio=None,\n",
       "                   max_iter=100, multi_class='warn', n_jobs=None, penalty='l2',\n",
       "                   random_state=None, solver='liblinear', tol=0.0001, verbose=0,\n",
       "                   warm_start=False)"
      ]
     },
     "execution_count": 6,
     "metadata": {},
     "output_type": "execute_result"
    }
   ],
   "source": [
    "# Import LogisticRegression\n",
    "from sklearn.linear_model import LogisticRegression\n",
    "\n",
    "# Instantiate LogisticRegression\n",
    "logreg = LogisticRegression(fit_intercept=False, C=1e12, solver='liblinear')\n",
    "\n",
    "# Fit to training data\n",
    "model_log = logreg.fit(X_train, y_train)\n",
    "model_log"
   ]
  },
  {
   "cell_type": "markdown",
   "metadata": {},
   "source": [
    "## Write a function to calculate the precision"
   ]
  },
  {
   "cell_type": "code",
   "execution_count": 14,
   "metadata": {},
   "outputs": [],
   "source": [
    "def precision(y, y_hat):\n",
    "    # Your code here\n",
    "    # number of true positives/number of predicted positives\n",
    "    # tp/ (tp + fp)\n",
    "    y_y_hat = list(zip(y, y_hat))\n",
    "    tp = sum([1 for i in y_y_hat if i[0] == 1 and i[1] == 1])\n",
    "    fp = sum([1 for i in y_y_hat if i[0] == 0 and i[1] == 1])\n",
    "    return tp/float(tp + fp)"
   ]
  },
  {
   "cell_type": "markdown",
   "metadata": {},
   "source": [
    "## Write a function to calculate the recall"
   ]
  },
  {
   "cell_type": "code",
   "execution_count": 15,
   "metadata": {},
   "outputs": [],
   "source": [
    "def recall(y, y_hat):\n",
    "    # Your code here\n",
    "    # tp/ (tp +fn)\n",
    "    y_y_hat = list(zip(y, y_hat))\n",
    "    tp = sum([1 for i in y_y_hat if i[0] == 1 and i[1] == 1])\n",
    "    fn = sum([1 for i in y_y_hat if i[0] == 1 and i[1] == 0])\n",
    "    return tp/float(tp + fn)"
   ]
  },
  {
   "cell_type": "markdown",
   "metadata": {},
   "source": [
    "## Write a function to calculate the accuracy"
   ]
  },
  {
   "cell_type": "code",
   "execution_count": 19,
   "metadata": {},
   "outputs": [],
   "source": [
    "def accuracy(y, y_hat):\n",
    "    # Your code here\n",
    "    # (tp + tn)/ttl observations\n",
    "    # tp/ (tp +fn)\n",
    "    y_y_hat = list(zip(y, y_hat))\n",
    "    tp = sum([1 for i in y_y_hat if i[0] == 1 and i[1] == 1])\n",
    "    tn = sum([1 for i in y_y_hat if i[0] == 0 and i[1] == 0])\n",
    "    return (tp + tn)/float(len(y_hat))"
   ]
  },
  {
   "cell_type": "markdown",
   "metadata": {},
   "source": [
    "## Write a function to calculate the F1 score"
   ]
  },
  {
   "cell_type": "code",
   "execution_count": 20,
   "metadata": {},
   "outputs": [],
   "source": [
    "def f1_score(y, y_hat):\n",
    "    # Your code here\n",
    "    # 2 * (precision * recall)/(precision + recall)\n",
    "    precision_score = precision(y, y_hat)\n",
    "    recall_score = recall(y, y_hat)\n",
    "    num = precision_score * recall_score\n",
    "    den = precision_score + recall_score\n",
    "    return 2 * (num/den)"
   ]
  },
  {
   "cell_type": "markdown",
   "metadata": {},
   "source": [
    "## Calculate the precision, recall, accuracy, and F1 score of your classifier \n",
    "\n",
    "Do this for both the training and test sets. "
   ]
  },
  {
   "cell_type": "code",
   "execution_count": 21,
   "metadata": {},
   "outputs": [
    {
     "name": "stdout",
     "output_type": "stream",
     "text": [
      "Training Precision:  0.8396946564885496\n",
      "Test Precision:  0.8125\n",
      "\n",
      "Training Recall:  0.9016393442622951\n",
      "Test Recall:  0.9069767441860465\n",
      "\n",
      "Training Accuracy:  0.8546255506607929\n",
      "Test Accuracy:  0.8289473684210527\n",
      "\n",
      "Training F1 Score:  0.8695652173913043\n",
      "Test F1 Score:  0.8571428571428572\n"
     ]
    }
   ],
   "source": [
    "# Your code here\n",
    "y_hat_train = model_log.predict(X_train)\n",
    "y_hat_test = model_log.predict(X_test)\n",
    "\n",
    "\n",
    "\n",
    "print(\"Training Precision: \", precision(y_train, y_hat_train))\n",
    "print(\"Test Precision: \", precision(y_test, y_hat_test))\n",
    "print(\"\")\n",
    "print(\"Training Recall: \", recall(y_train, y_hat_train))\n",
    "print(\"Test Recall: \", recall(y_test, y_hat_test))\n",
    "print(\"\")\n",
    "print(\"Training Accuracy: \", accuracy(y_train, y_hat_train))\n",
    "print(\"Test Accuracy: \", accuracy(y_test, y_hat_test))\n",
    "print(\"\")\n",
    "print(\"Training F1 Score: \", f1_score(y_train, y_hat_train))\n",
    "print(\"Test F1 Score: \", f1_score(y_test, y_hat_test))"
   ]
  },
  {
   "cell_type": "markdown",
   "metadata": {},
   "source": [
    "Great job! Now it's time to check your work with `sklearn`. \n",
    "\n",
    "## Calculate metrics with `sklearn`\n",
    "\n",
    "Each of the metrics we calculated above is also available inside the `sklearn.metrics` module.  \n",
    "\n",
    "In the cell below, import the following functions:\n",
    "\n",
    "* `precision_score`\n",
    "* `recall_score`\n",
    "* `accuracy_score`\n",
    "* `f1_score`\n",
    "\n",
    "Compare the results of your performance metrics functions above with the `sklearn` functions. Calculate these values for both your train and test set. "
   ]
  },
  {
   "cell_type": "code",
   "execution_count": 23,
   "metadata": {},
   "outputs": [
    {
     "name": "stdout",
     "output_type": "stream",
     "text": [
      "Training Precision:  0.8396946564885496\n",
      "Test Precision:  0.8125\n",
      "\n",
      "Training Recall:  0.9016393442622951\n",
      "Test Recall:  0.9069767441860465\n",
      "\n",
      "Training Accuracy:  0.8546255506607929\n",
      "Test Accuracy:  0.8289473684210527\n",
      "\n",
      "Training F1 Score:  0.8695652173913043\n",
      "Test F1 Score:  0.8571428571428572\n"
     ]
    }
   ],
   "source": [
    "# Your code here\n",
    "from sklearn.metrics import precision_score, recall_score, accuracy_score, f1_score\n",
    "\n",
    "print(\"Training Precision: \", precision_score(y_train, y_hat_train))\n",
    "print(\"Test Precision: \", precision_score(y_test, y_hat_test))\n",
    "print(\"\")\n",
    "print(\"Training Recall: \", recall_score(y_train, y_hat_train))\n",
    "print(\"Test Recall: \", recall_score(y_test, y_hat_test))\n",
    "print(\"\")\n",
    "print(\"Training Accuracy: \", accuracy_score(y_train, y_hat_train))\n",
    "print(\"Test Accuracy: \", accuracy_score(y_test, y_hat_test))\n",
    "print(\"\")\n",
    "print(\"Training F1 Score: \", f1_score(y_train, y_hat_train))\n",
    "print(\"Test F1 Score: \", f1_score(y_test, y_hat_test))"
   ]
  },
  {
   "cell_type": "markdown",
   "metadata": {},
   "source": [
    "Nicely done! Did the results from `sklearn` match that of your own? "
   ]
  },
  {
   "cell_type": "markdown",
   "metadata": {},
   "source": [
    "## Compare precision, recall, accuracy, and F1 score for train vs test sets"
   ]
  },
  {
   "cell_type": "markdown",
   "metadata": {},
   "source": [
    "Calculate and then plot the precision, recall, accuracy, and F1 score for the test and training splits using different training set sizes. What do you notice?"
   ]
  },
  {
   "cell_type": "code",
   "execution_count": 24,
   "metadata": {},
   "outputs": [],
   "source": [
    "import matplotlib.pyplot as plt\n",
    "%matplotlib inline"
   ]
  },
  {
   "cell_type": "code",
   "execution_count": 27,
   "metadata": {},
   "outputs": [],
   "source": [
    "training_precision = []\n",
    "testing_precision = []\n",
    "training_recall = []\n",
    "testing_recall = []\n",
    "training_accuracy = []\n",
    "testing_accuracy = []\n",
    "training_f1 = []\n",
    "testing_f1 = []\n",
    "\n",
    "for i in range(10, 95):\n",
    "    X_train, X_test, y_train, y_test = train_test_split(X, y, test_size=i/100.0)\n",
    "    logreg = LogisticRegression(fit_intercept=False, C=1e25, solver='liblinear')\n",
    "    model_log = logreg.fit(X_train, y_train)\n",
    "    y_hat_test = logreg.predict(X_test)\n",
    "    y_hat_train = logreg.predict(X_train)\n",
    "    \n",
    "    # Your code here\n",
    "    training_precision.append(precision(y_train, y_hat_train))\n",
    "    testing_precision.append(precision(y_test, y_hat_test))\n",
    "    training_recall.append(recall(y_train, y_hat_train))\n",
    "    testing_recall.append(recall(y_test, y_hat_test))\n",
    "    training_accuracy.append(accuracy(y_train, y_hat_train))\n",
    "    testing_accuracy.append(accuracy(y_test, y_hat_test))\n",
    "    training_f1.append(f1_score(y_train, y_hat_train))\n",
    "    testing_f1.append(f1_score(y_test, y_hat_test))"
   ]
  },
  {
   "cell_type": "markdown",
   "metadata": {},
   "source": [
    "Create four scatter plots looking at the train and test precision in the first one, train and test recall in the second one, train and test accuracy in the third one, and train and test F1 score in the fourth one. \n",
    "\n",
    "We already created the scatter plot for precision: "
   ]
  },
  {
   "cell_type": "code",
   "execution_count": 28,
   "metadata": {},
   "outputs": [
    {
     "data": {
      "image/png": "[encoded data removed]",
      "text/plain": [
       "<Figure size 432x288 with 1 Axes>"
      ]
     },
     "metadata": {
      "needs_background": "light"
     },
     "output_type": "display_data"
    }
   ],
   "source": [
    "# Train and test precision\n",
    "plt.scatter(list(range(10, 95)), training_precision, label='training_precision')\n",
    "plt.scatter(list(range(10, 95)), testing_precision, label='testing_precision')\n",
    "plt.legend()\n",
    "plt.show()"
   ]
  },
  {
   "cell_type": "code",
   "execution_count": null,
   "metadata": {},
   "outputs": [],
   "source": [
    "# Train and test recall"
   ]
  },
  {
   "cell_type": "code",
   "execution_count": null,
   "metadata": {},
   "outputs": [],
   "source": [
    "# Train and test accuracy"
   ]
  },
  {
   "cell_type": "code",
   "execution_count": null,
   "metadata": {},
   "outputs": [],
   "source": [
    "# Train and test F1 score"
   ]
  },
  {
   "cell_type": "markdown",
   "metadata": {},
   "source": [
    "## Summary\n",
    "\n",
    "Nice! In this lab, you calculated evaluation metrics for classification algorithms from scratch in Python. Going forward, continue to think about scenarios in which you might prefer to optimize one of these metrics over another."
   ]
  }
 ],
 "metadata": {
  "kernelspec": {
   "display_name": "Python 3",
   "language": "python",
   "name": "python3"
  },
  "language_info": {
   "codemirror_mode": {
    "name": "ipython",
    "version": 3
   },
   "file_extension": ".py",
   "mimetype": "text/x-python",
   "name": "python",
   "nbconvert_exporter": "python",
   "pygments_lexer": "ipython3",
   "version": "3.6.9"
  }
 },
 "nbformat": 4,
 "nbformat_minor": 2
}
